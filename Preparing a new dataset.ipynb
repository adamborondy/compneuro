{
 "cells": [
  {
   "cell_type": "markdown",
   "source": [
    "# MUW Neuroscience Seminar WS 23/24\n",
    "## Group Work: CAL MS21 Dataset"
   ],
   "metadata": {
    "collapsed": false,
    "pycharm": {
     "name": "#%% md\n"
    }
   }
  },
  {
   "cell_type": "markdown",
   "source": [
    "## Preprocessing Goal\n",
    "\n",
    "The originally nested data of the Mouse Social Behaviour Challenge is simplified and reduced to just the keypoints of the mouse body parts and the annotations."
   ],
   "metadata": {
    "collapsed": false,
    "pycharm": {
     "name": "#%% md\n"
    }
   }
  },
  {
   "cell_type": "code",
   "execution_count": 1,
   "outputs": [],
   "source": [
    "import numpy as np\n",
    "import pandas as pd"
   ],
   "metadata": {
    "collapsed": false,
    "pycharm": {
     "name": "#%%\n"
    }
   }
  },
  {
   "cell_type": "code",
   "execution_count": 2,
   "outputs": [],
   "source": [
    "def load_task1_data(data_path):\n",
    "  \"\"\"\n",
    "  Load data for task 1:\n",
    "      The vocaubulary tells you how to map behavior names to class ids;\n",
    "      it is the same for all sequences in this dataset.\n",
    "  \"\"\"\n",
    "  data_dict = np.load(data_path, allow_pickle=True).item()\n",
    "  dataset = data_dict['annotator-id_0']\n",
    "  # Get any sequence key.\n",
    "  sequence_id = list(data_dict['annotator-id_0'].keys())[0]\n",
    "  vocabulary = data_dict['annotator-id_0'][sequence_id]['metadata']['vocab']\n",
    "  return dataset, vocabulary\n",
    "\n",
    "\n",
    "training_data, vocab = load_task1_data('data/calms21_task1_train.npy') #check where you created the files in the loading notebook\n",
    "test_data, _ = load_task1_data('data/calms21_task1_test.npy') #check where you created the files in the loading notebook"
   ],
   "metadata": {
    "collapsed": false,
    "pycharm": {
     "name": "#%%\n"
    }
   }
  },
  {
   "cell_type": "code",
   "execution_count": 3,
   "outputs": [
    {
     "name": "stdout",
     "output_type": "stream",
     "text": [
      "Sample dataset keys:  ['task1/train/mouse001_task1_annotator1', 'task1/train/mouse002_task1_annotator1', 'task1/train/mouse003_task1_annotator1']\n",
      "Vocabulary:  {'attack': 0, 'investigation': 1, 'mount': 2, 'other': 3}\n",
      "Number of train Sequences:  70\n",
      "Number of test Sequences:  19\n"
     ]
    }
   ],
   "source": [
    "print(\"Sample dataset keys: \", list(training_data.keys())[:3])\n",
    "print(\"Vocabulary: \", vocab)\n",
    "print(\"Number of train Sequences: \", len(training_data))\n",
    "print(\"Number of test Sequences: \", len(test_data))"
   ],
   "metadata": {
    "collapsed": false,
    "pycharm": {
     "name": "#%%\n"
    }
   }
  },
  {
   "cell_type": "code",
   "execution_count": 4,
   "outputs": [
    {
     "name": "stdout",
     "output_type": "stream",
     "text": [
      "Name of our sample sequence:  task1/train/mouse001_task1_annotator1\n",
      "Sequence keys:  dict_keys(['keypoints', 'scores', 'annotations', 'metadata'])\n",
      "Sequence metadata:  {'annotator-id': 0, 'vocab': {'attack': 0, 'investigation': 1, 'mount': 2, 'other': 3}}\n",
      "Number of Frames in Sequence \"task1/train/mouse001_task1_annotator1\":  21364\n",
      "Keypoints data shape of Sequence \"task1/train/mouse001_task1_annotator1\":  (21364, 2, 2, 7)\n"
     ]
    }
   ],
   "source": [
    "sequence_names = list(training_data.keys())\n",
    "sample_sequence_key = sequence_names[0]\n",
    "single_sequence = training_data[sample_sequence_key]\n",
    "print(\"Name of our sample sequence: \", sample_sequence_key)\n",
    "print(\"Sequence keys: \", single_sequence.keys())\n",
    "print(\"Sequence metadata: \", single_sequence['metadata'])\n",
    "print(f\"Number of Frames in Sequence \\\"{sample_sequence_key}\\\": \", len(single_sequence['annotations']))\n",
    "print(f\"Keypoints data shape of Sequence \\\"{sample_sequence_key}\\\": \", single_sequence['keypoints'].shape)"
   ],
   "metadata": {
    "collapsed": false,
    "pycharm": {
     "name": "#%%\n"
    }
   }
  },
  {
   "cell_type": "code",
   "execution_count": 5,
   "outputs": [],
   "source": [
    "# simplify data in a dataframe\n",
    "\n",
    "def transform_dataset(dataset):\n",
    "\n",
    "  sequence_names = list(dataset.keys())\n",
    "\n",
    "  data = []\n",
    "\n",
    "  #columns\n",
    "  mice = ['m1', 'm2']\n",
    "  coordinates = ['x', 'y']\n",
    "  bodyparts = ['nose', 'left_ear', 'right_ear', 'neck', 'left_hip', 'right_hip', 'tail_base']\n",
    "\n",
    "  print('We have ', len(sequence_names), ' sequences')\n",
    "\n",
    "  for sequence in sequence_names:\n",
    "\n",
    "      for f, frame in enumerate(dataset[sequence]['keypoints']):\n",
    "\n",
    "        tabdata = {}\n",
    "        id = sequence + str(f)\n",
    "        tabdata = {'sequence': sequence, 'frame': f, 'id': id}\n",
    "        tabdata['label'] = dataset[sequence]['annotations'][f]\n",
    "\n",
    "        # create a column for each mouse + coordinate + bodypart column\n",
    "        for m, mouse in enumerate(frame):\n",
    "\n",
    "          for c, coordinate in enumerate(mouse):\n",
    "\n",
    "            for b, c_bodypart in enumerate(coordinate):\n",
    "\n",
    "              column_name = mice[m] + '_' + coordinates[c] + '_' + bodyparts[b]\n",
    "              tabdata[column_name] = c_bodypart\n",
    "\n",
    "        data.append(tabdata)\n",
    "\n",
    "  print('We have ', len(data), ' frames in total in the dataset')\n",
    "  dataset_new = data\n",
    "\n",
    "  return dataset_new"
   ],
   "metadata": {
    "collapsed": false,
    "pycharm": {
     "name": "#%%\n"
    }
   }
  },
  {
   "cell_type": "code",
   "execution_count": 6,
   "outputs": [
    {
     "name": "stdout",
     "output_type": "stream",
     "text": [
      "We have  70  sequences\n",
      "We have  507738  frames in total in the dataset\n",
      "We have  19  sequences\n",
      "We have  262107  frames in total in the dataset\n"
     ]
    }
   ],
   "source": [
    "train_data = transform_dataset(training_data)\n",
    "test_data =  transform_dataset(test_data)"
   ],
   "metadata": {
    "collapsed": false,
    "pycharm": {
     "name": "#%%\n"
    }
   }
  },
  {
   "cell_type": "code",
   "execution_count": 7,
   "outputs": [
    {
     "data": {
      "text/plain": "                                sequence  frame  \\\n0  task1/train/mouse001_task1_annotator1      0   \n1  task1/train/mouse001_task1_annotator1      1   \n2  task1/train/mouse001_task1_annotator1      2   \n3  task1/train/mouse001_task1_annotator1      3   \n4  task1/train/mouse001_task1_annotator1      4   \n\n                                       id  label   m1_x_nose  m1_x_left_ear  \\\n0  task1/train/mouse001_task1_annotator10      3  831.659204     805.659204   \n1  task1/train/mouse001_task1_annotator11      1  833.050439     809.050439   \n2  task1/train/mouse001_task1_annotator12      1  838.718976     816.718976   \n3  task1/train/mouse001_task1_annotator13      1  826.757507     815.757507   \n4  task1/train/mouse001_task1_annotator14      1  822.045709     812.045709   \n\n   m1_x_right_ear   m1_x_neck  m1_x_left_hip  m1_x_right_hip  ...  \\\n0      775.659204  780.659204     711.659204      711.659204  ...   \n1      778.050439  783.050439     723.050439      717.050439  ...   \n2      776.718976  787.718976     730.718976      713.718976  ...   \n3      774.757507  785.757507     743.757507      711.757507  ...   \n4      768.045709  779.045709     749.045709      709.045709  ...   \n\n   m2_x_left_hip  m2_x_right_hip  m2_x_tail_base   m2_y_nose  m2_y_left_ear  \\\n0     796.915924      840.915924      766.915924  253.216902     195.216902   \n1     799.907019      846.907019      766.907019  259.539977     204.539977   \n2     800.195703      860.195703      777.195703  256.902935     208.902935   \n3     794.788861      856.788861      786.788861  263.420539     206.420539   \n4     789.578644      862.578644      793.578644  263.366469     202.366469   \n\n   m2_y_right_ear   m2_y_neck  m2_y_left_hip  m2_y_right_hip  m2_y_tail_base  \n0      193.216902  179.216902     152.216902      102.216902       97.216902  \n1      201.539977  188.539977     153.539977      105.539977       98.539977  \n2      205.902935  193.902935     150.902935      112.902935       99.902935  \n3      206.420539  193.420539     147.420539      113.420539       97.420539  \n4      201.366469  190.366469     143.366469      120.366469       95.366469  \n\n[5 rows x 32 columns]",
      "text/html": "<div>\n<style scoped>\n    .dataframe tbody tr th:only-of-type {\n        vertical-align: middle;\n    }\n\n    .dataframe tbody tr th {\n        vertical-align: top;\n    }\n\n    .dataframe thead th {\n        text-align: right;\n    }\n</style>\n<table border=\"1\" class=\"dataframe\">\n  <thead>\n    <tr style=\"text-align: right;\">\n      <th></th>\n      <th>sequence</th>\n      <th>frame</th>\n      <th>id</th>\n      <th>label</th>\n      <th>m1_x_nose</th>\n      <th>m1_x_left_ear</th>\n      <th>m1_x_right_ear</th>\n      <th>m1_x_neck</th>\n      <th>m1_x_left_hip</th>\n      <th>m1_x_right_hip</th>\n      <th>...</th>\n      <th>m2_x_left_hip</th>\n      <th>m2_x_right_hip</th>\n      <th>m2_x_tail_base</th>\n      <th>m2_y_nose</th>\n      <th>m2_y_left_ear</th>\n      <th>m2_y_right_ear</th>\n      <th>m2_y_neck</th>\n      <th>m2_y_left_hip</th>\n      <th>m2_y_right_hip</th>\n      <th>m2_y_tail_base</th>\n    </tr>\n  </thead>\n  <tbody>\n    <tr>\n      <th>0</th>\n      <td>task1/train/mouse001_task1_annotator1</td>\n      <td>0</td>\n      <td>task1/train/mouse001_task1_annotator10</td>\n      <td>3</td>\n      <td>831.659204</td>\n      <td>805.659204</td>\n      <td>775.659204</td>\n      <td>780.659204</td>\n      <td>711.659204</td>\n      <td>711.659204</td>\n      <td>...</td>\n      <td>796.915924</td>\n      <td>840.915924</td>\n      <td>766.915924</td>\n      <td>253.216902</td>\n      <td>195.216902</td>\n      <td>193.216902</td>\n      <td>179.216902</td>\n      <td>152.216902</td>\n      <td>102.216902</td>\n      <td>97.216902</td>\n    </tr>\n    <tr>\n      <th>1</th>\n      <td>task1/train/mouse001_task1_annotator1</td>\n      <td>1</td>\n      <td>task1/train/mouse001_task1_annotator11</td>\n      <td>1</td>\n      <td>833.050439</td>\n      <td>809.050439</td>\n      <td>778.050439</td>\n      <td>783.050439</td>\n      <td>723.050439</td>\n      <td>717.050439</td>\n      <td>...</td>\n      <td>799.907019</td>\n      <td>846.907019</td>\n      <td>766.907019</td>\n      <td>259.539977</td>\n      <td>204.539977</td>\n      <td>201.539977</td>\n      <td>188.539977</td>\n      <td>153.539977</td>\n      <td>105.539977</td>\n      <td>98.539977</td>\n    </tr>\n    <tr>\n      <th>2</th>\n      <td>task1/train/mouse001_task1_annotator1</td>\n      <td>2</td>\n      <td>task1/train/mouse001_task1_annotator12</td>\n      <td>1</td>\n      <td>838.718976</td>\n      <td>816.718976</td>\n      <td>776.718976</td>\n      <td>787.718976</td>\n      <td>730.718976</td>\n      <td>713.718976</td>\n      <td>...</td>\n      <td>800.195703</td>\n      <td>860.195703</td>\n      <td>777.195703</td>\n      <td>256.902935</td>\n      <td>208.902935</td>\n      <td>205.902935</td>\n      <td>193.902935</td>\n      <td>150.902935</td>\n      <td>112.902935</td>\n      <td>99.902935</td>\n    </tr>\n    <tr>\n      <th>3</th>\n      <td>task1/train/mouse001_task1_annotator1</td>\n      <td>3</td>\n      <td>task1/train/mouse001_task1_annotator13</td>\n      <td>1</td>\n      <td>826.757507</td>\n      <td>815.757507</td>\n      <td>774.757507</td>\n      <td>785.757507</td>\n      <td>743.757507</td>\n      <td>711.757507</td>\n      <td>...</td>\n      <td>794.788861</td>\n      <td>856.788861</td>\n      <td>786.788861</td>\n      <td>263.420539</td>\n      <td>206.420539</td>\n      <td>206.420539</td>\n      <td>193.420539</td>\n      <td>147.420539</td>\n      <td>113.420539</td>\n      <td>97.420539</td>\n    </tr>\n    <tr>\n      <th>4</th>\n      <td>task1/train/mouse001_task1_annotator1</td>\n      <td>4</td>\n      <td>task1/train/mouse001_task1_annotator14</td>\n      <td>1</td>\n      <td>822.045709</td>\n      <td>812.045709</td>\n      <td>768.045709</td>\n      <td>779.045709</td>\n      <td>749.045709</td>\n      <td>709.045709</td>\n      <td>...</td>\n      <td>789.578644</td>\n      <td>862.578644</td>\n      <td>793.578644</td>\n      <td>263.366469</td>\n      <td>202.366469</td>\n      <td>201.366469</td>\n      <td>190.366469</td>\n      <td>143.366469</td>\n      <td>120.366469</td>\n      <td>95.366469</td>\n    </tr>\n  </tbody>\n</table>\n<p>5 rows × 32 columns</p>\n</div>"
     },
     "execution_count": 7,
     "metadata": {},
     "output_type": "execute_result"
    }
   ],
   "source": [
    "# converting the train data into a dataframe\n",
    "df_train = pd.DataFrame(train_data)\n",
    "df_train.head()"
   ],
   "metadata": {
    "collapsed": false,
    "pycharm": {
     "name": "#%%\n"
    }
   }
  },
  {
   "cell_type": "code",
   "execution_count": 13,
   "outputs": [
    {
     "data": {
      "text/plain": "                               sequence  frame  \\\n0  task1/test/mouse071_task1_annotator1      0   \n1  task1/test/mouse071_task1_annotator1      1   \n2  task1/test/mouse071_task1_annotator1      2   \n3  task1/test/mouse071_task1_annotator1      3   \n4  task1/test/mouse071_task1_annotator1      4   \n\n                                      id  label   m1_x_nose  m1_x_left_ear  \\\n0  task1/test/mouse071_task1_annotator10      3  720.980978     654.980978   \n1  task1/test/mouse071_task1_annotator11      1  733.408734     663.408734   \n2  task1/test/mouse071_task1_annotator12      1  742.879459     670.879459   \n3  task1/test/mouse071_task1_annotator13      1  751.682971     679.682971   \n4  task1/test/mouse071_task1_annotator14      1  754.399670     687.399670   \n\n   m1_x_right_ear   m1_x_neck  m1_x_left_hip  m1_x_right_hip  ...  \\\n0      698.980978  661.980978     550.980978      589.980978  ...   \n1      705.408734  668.408734     554.408734      593.408734  ...   \n2      708.879459  675.879459     559.879459      598.879459  ...   \n3      714.682971  681.682971     568.682971      607.682971  ...   \n4      722.399670  688.399670     577.399670      615.399670  ...   \n\n   m2_x_left_hip  m2_x_right_hip  m2_x_tail_base   m2_y_nose  m2_y_left_ear  \\\n0     781.674377      830.674377      759.674377  485.749376     460.749376   \n1     780.197046      832.197046      761.197046  490.161792     468.161792   \n2     781.179437      833.179437      765.179437  498.969705     471.969705   \n3     783.078973      835.078973      767.078973  499.599931     470.599931   \n4     781.261469      834.261469      769.261469  500.060898     466.060898   \n\n   m2_y_right_ear   m2_y_neck  m2_y_left_hip  m2_y_right_hip  m2_y_tail_base  \n0      434.749376  437.749376     404.749376      348.749376      340.749376  \n1      438.161792  442.161792     411.161792      355.161792      347.161792  \n2      441.969705  444.969705     414.969705      359.969705      351.969705  \n3      442.599931  442.599931     418.599931      362.599931      354.599931  \n4      436.060898  436.060898     417.060898      363.060898      356.060898  \n\n[5 rows x 32 columns]",
      "text/html": "<div>\n<style scoped>\n    .dataframe tbody tr th:only-of-type {\n        vertical-align: middle;\n    }\n\n    .dataframe tbody tr th {\n        vertical-align: top;\n    }\n\n    .dataframe thead th {\n        text-align: right;\n    }\n</style>\n<table border=\"1\" class=\"dataframe\">\n  <thead>\n    <tr style=\"text-align: right;\">\n      <th></th>\n      <th>sequence</th>\n      <th>frame</th>\n      <th>id</th>\n      <th>label</th>\n      <th>m1_x_nose</th>\n      <th>m1_x_left_ear</th>\n      <th>m1_x_right_ear</th>\n      <th>m1_x_neck</th>\n      <th>m1_x_left_hip</th>\n      <th>m1_x_right_hip</th>\n      <th>...</th>\n      <th>m2_x_left_hip</th>\n      <th>m2_x_right_hip</th>\n      <th>m2_x_tail_base</th>\n      <th>m2_y_nose</th>\n      <th>m2_y_left_ear</th>\n      <th>m2_y_right_ear</th>\n      <th>m2_y_neck</th>\n      <th>m2_y_left_hip</th>\n      <th>m2_y_right_hip</th>\n      <th>m2_y_tail_base</th>\n    </tr>\n  </thead>\n  <tbody>\n    <tr>\n      <th>0</th>\n      <td>task1/test/mouse071_task1_annotator1</td>\n      <td>0</td>\n      <td>task1/test/mouse071_task1_annotator10</td>\n      <td>3</td>\n      <td>720.980978</td>\n      <td>654.980978</td>\n      <td>698.980978</td>\n      <td>661.980978</td>\n      <td>550.980978</td>\n      <td>589.980978</td>\n      <td>...</td>\n      <td>781.674377</td>\n      <td>830.674377</td>\n      <td>759.674377</td>\n      <td>485.749376</td>\n      <td>460.749376</td>\n      <td>434.749376</td>\n      <td>437.749376</td>\n      <td>404.749376</td>\n      <td>348.749376</td>\n      <td>340.749376</td>\n    </tr>\n    <tr>\n      <th>1</th>\n      <td>task1/test/mouse071_task1_annotator1</td>\n      <td>1</td>\n      <td>task1/test/mouse071_task1_annotator11</td>\n      <td>1</td>\n      <td>733.408734</td>\n      <td>663.408734</td>\n      <td>705.408734</td>\n      <td>668.408734</td>\n      <td>554.408734</td>\n      <td>593.408734</td>\n      <td>...</td>\n      <td>780.197046</td>\n      <td>832.197046</td>\n      <td>761.197046</td>\n      <td>490.161792</td>\n      <td>468.161792</td>\n      <td>438.161792</td>\n      <td>442.161792</td>\n      <td>411.161792</td>\n      <td>355.161792</td>\n      <td>347.161792</td>\n    </tr>\n    <tr>\n      <th>2</th>\n      <td>task1/test/mouse071_task1_annotator1</td>\n      <td>2</td>\n      <td>task1/test/mouse071_task1_annotator12</td>\n      <td>1</td>\n      <td>742.879459</td>\n      <td>670.879459</td>\n      <td>708.879459</td>\n      <td>675.879459</td>\n      <td>559.879459</td>\n      <td>598.879459</td>\n      <td>...</td>\n      <td>781.179437</td>\n      <td>833.179437</td>\n      <td>765.179437</td>\n      <td>498.969705</td>\n      <td>471.969705</td>\n      <td>441.969705</td>\n      <td>444.969705</td>\n      <td>414.969705</td>\n      <td>359.969705</td>\n      <td>351.969705</td>\n    </tr>\n    <tr>\n      <th>3</th>\n      <td>task1/test/mouse071_task1_annotator1</td>\n      <td>3</td>\n      <td>task1/test/mouse071_task1_annotator13</td>\n      <td>1</td>\n      <td>751.682971</td>\n      <td>679.682971</td>\n      <td>714.682971</td>\n      <td>681.682971</td>\n      <td>568.682971</td>\n      <td>607.682971</td>\n      <td>...</td>\n      <td>783.078973</td>\n      <td>835.078973</td>\n      <td>767.078973</td>\n      <td>499.599931</td>\n      <td>470.599931</td>\n      <td>442.599931</td>\n      <td>442.599931</td>\n      <td>418.599931</td>\n      <td>362.599931</td>\n      <td>354.599931</td>\n    </tr>\n    <tr>\n      <th>4</th>\n      <td>task1/test/mouse071_task1_annotator1</td>\n      <td>4</td>\n      <td>task1/test/mouse071_task1_annotator14</td>\n      <td>1</td>\n      <td>754.399670</td>\n      <td>687.399670</td>\n      <td>722.399670</td>\n      <td>688.399670</td>\n      <td>577.399670</td>\n      <td>615.399670</td>\n      <td>...</td>\n      <td>781.261469</td>\n      <td>834.261469</td>\n      <td>769.261469</td>\n      <td>500.060898</td>\n      <td>466.060898</td>\n      <td>436.060898</td>\n      <td>436.060898</td>\n      <td>417.060898</td>\n      <td>363.060898</td>\n      <td>356.060898</td>\n    </tr>\n  </tbody>\n</table>\n<p>5 rows × 32 columns</p>\n</div>"
     },
     "execution_count": 13,
     "metadata": {},
     "output_type": "execute_result"
    }
   ],
   "source": [
    "# converting the test data into a dataframe\n",
    "df_test = pd.DataFrame(test_data)\n",
    "df_test.head()"
   ],
   "metadata": {
    "collapsed": false,
    "pycharm": {
     "name": "#%%\n"
    }
   }
  },
  {
   "cell_type": "code",
   "execution_count": 14,
   "outputs": [
    {
     "data": {
      "text/plain": "label\n0     14039\n1    146615\n2     28615\n3    318469\nName: label, dtype: int64"
     },
     "execution_count": 14,
     "metadata": {},
     "output_type": "execute_result"
    }
   ],
   "source": [
    "# check label distribution - imbalanced classification problem\n",
    "df_train.groupby(['label'])['label'].count()"
   ],
   "metadata": {
    "collapsed": false,
    "pycharm": {
     "name": "#%%\n"
    }
   }
  },
  {
   "cell_type": "code",
   "execution_count": 15,
   "outputs": [
    {
     "data": {
      "text/plain": "label\n0     12630\n1     61275\n2     31848\n3    156354\nName: label, dtype: int64"
     },
     "execution_count": 15,
     "metadata": {},
     "output_type": "execute_result"
    }
   ],
   "source": [
    "df_test.groupby(['label'])['label'].count()"
   ],
   "metadata": {
    "collapsed": false,
    "pycharm": {
     "name": "#%%\n"
    }
   }
  },
  {
   "cell_type": "code",
   "execution_count": 16,
   "outputs": [
    {
     "data": {
      "text/plain": "attack\n0    493699\n1     14039\nName: attack, dtype: int64"
     },
     "execution_count": 16,
     "metadata": {},
     "output_type": "execute_result"
    }
   ],
   "source": [
    "# adding a column for binary classification for attack\n",
    "df_train['attack'] = np.where(df_train['label']==0, 1, 0)\n",
    "df_train.groupby(['attack'])['attack'].count()"
   ],
   "metadata": {
    "collapsed": false,
    "pycharm": {
     "name": "#%%\n"
    }
   }
  },
  {
   "cell_type": "code",
   "execution_count": 17,
   "outputs": [
    {
     "data": {
      "text/plain": "attack\n0    249477\n1     12630\nName: attack, dtype: int64"
     },
     "execution_count": 17,
     "metadata": {},
     "output_type": "execute_result"
    }
   ],
   "source": [
    "# adding a column for binary classification for attack\n",
    "df_test['attack'] = np.where(df_test['label']==0, 1, 0)\n",
    "df_test.groupby(['attack'])['attack'].count()"
   ],
   "metadata": {
    "collapsed": false,
    "pycharm": {
     "name": "#%%\n"
    }
   }
  },
  {
   "cell_type": "code",
   "execution_count": 19,
   "outputs": [
    {
     "data": {
      "text/plain": "                                    sequence  frame  \\\n80540   task1/test/mouse075_task1_annotator1    585   \n80541   task1/test/mouse075_task1_annotator1    586   \n80542   task1/test/mouse075_task1_annotator1    587   \n80543   task1/test/mouse075_task1_annotator1    588   \n80544   task1/test/mouse075_task1_annotator1    589   \n...                                      ...    ...   \n172557  task1/test/mouse079_task1_annotator1  16497   \n172558  task1/test/mouse079_task1_annotator1  16498   \n172559  task1/test/mouse079_task1_annotator1  16499   \n172560  task1/test/mouse079_task1_annotator1  16500   \n172561  task1/test/mouse079_task1_annotator1  16501   \n\n                                               id  label   m1_x_nose  \\\n80540     task1/test/mouse075_task1_annotator1585      0  770.006976   \n80541     task1/test/mouse075_task1_annotator1586      0  750.598450   \n80542     task1/test/mouse075_task1_annotator1587      0  748.611139   \n80543     task1/test/mouse075_task1_annotator1588      0  751.521545   \n80544     task1/test/mouse075_task1_annotator1589      0  740.698437   \n...                                           ...    ...         ...   \n172557  task1/test/mouse079_task1_annotator116497      0  124.899112   \n172558  task1/test/mouse079_task1_annotator116498      0  121.091116   \n172559  task1/test/mouse079_task1_annotator116499      0  135.111630   \n172560  task1/test/mouse079_task1_annotator116500      0  149.067393   \n172561  task1/test/mouse079_task1_annotator116501      0  136.621295   \n\n        m1_x_left_ear  m1_x_right_ear   m1_x_neck  m1_x_left_hip  \\\n80540      829.006976      782.006976  811.006976     868.006976   \n80541      818.598450      767.598450  798.598450     864.598450   \n80542      825.611139      787.611139  813.611139     831.611139   \n80543      814.521545      746.521545  785.521545     790.521545   \n80544      778.698437      722.698437  753.698437     791.698437   \n...               ...             ...         ...            ...   \n172557     156.899112      190.899112  183.899112     245.899112   \n172558     146.091116      188.091116  176.091116     239.091116   \n172559     153.111630      204.111630  181.111630     225.111630   \n172560     173.067393      185.067393  196.067393     252.067393   \n172561     170.621295      213.621295  196.621295     234.621295   \n\n        m1_x_right_hip  ...  m2_x_right_hip  m2_x_tail_base   m2_y_nose  \\\n80540       793.006976  ...      766.374866      814.374866   81.069857   \n80541       786.598450  ...      773.866473      832.866473  129.526582   \n80542       751.611139  ...      745.038623      783.038623  160.652746   \n80543       698.521545  ...      789.357764      825.357764  147.123604   \n80544       707.698437  ...      790.026691      841.026691  149.525123   \n...                ...  ...             ...             ...         ...   \n172557      240.899112  ...       90.212538      137.212538  290.271655   \n172558      238.091116  ...       91.118494      115.118494  296.645839   \n172559      240.111630  ...       88.455054      146.455054  306.659187   \n172560      245.067393  ...      128.639966      144.639966  314.699259   \n172561      243.621295  ...       98.604208      141.604208  330.573109   \n\n        m2_y_left_ear  m2_y_right_ear   m2_y_neck  m2_y_left_hip  \\\n80540       78.069857      145.069857  113.069857      65.069857   \n80541       85.526582      147.526582  112.526582      70.526582   \n80542      140.652746      184.652746  152.652746     107.652746   \n80543      107.123604      175.123604  139.123604      98.123604   \n80544      105.525123      174.525123  140.525123     102.525123   \n...               ...             ...         ...            ...   \n172557     354.271655      331.271655  353.271655     350.271655   \n172558     357.645839      330.645839  354.645839     349.645839   \n172559     372.659187      329.659187  355.659187     367.659187   \n172560     383.699259      329.699259  356.699259     313.699259   \n172561     389.573109      337.573109  360.573109     375.573109   \n\n        m2_y_right_hip  m2_y_tail_base  attack  \n80540       153.069857      107.069857       1  \n80541       151.526582      114.526582       1  \n80542       165.652746      117.652746       1  \n80543       179.123604      119.123604       1  \n80544       190.525123      162.525123       1  \n...                ...             ...     ...  \n172557      356.271655      350.271655       1  \n172558      351.645839      281.645839       1  \n172559      312.659187      370.659187       1  \n172560      375.699259      371.699259       1  \n172561      319.573109      337.573109       1  \n\n[12630 rows x 33 columns]",
      "text/html": "<div>\n<style scoped>\n    .dataframe tbody tr th:only-of-type {\n        vertical-align: middle;\n    }\n\n    .dataframe tbody tr th {\n        vertical-align: top;\n    }\n\n    .dataframe thead th {\n        text-align: right;\n    }\n</style>\n<table border=\"1\" class=\"dataframe\">\n  <thead>\n    <tr style=\"text-align: right;\">\n      <th></th>\n      <th>sequence</th>\n      <th>frame</th>\n      <th>id</th>\n      <th>label</th>\n      <th>m1_x_nose</th>\n      <th>m1_x_left_ear</th>\n      <th>m1_x_right_ear</th>\n      <th>m1_x_neck</th>\n      <th>m1_x_left_hip</th>\n      <th>m1_x_right_hip</th>\n      <th>...</th>\n      <th>m2_x_right_hip</th>\n      <th>m2_x_tail_base</th>\n      <th>m2_y_nose</th>\n      <th>m2_y_left_ear</th>\n      <th>m2_y_right_ear</th>\n      <th>m2_y_neck</th>\n      <th>m2_y_left_hip</th>\n      <th>m2_y_right_hip</th>\n      <th>m2_y_tail_base</th>\n      <th>attack</th>\n    </tr>\n  </thead>\n  <tbody>\n    <tr>\n      <th>80540</th>\n      <td>task1/test/mouse075_task1_annotator1</td>\n      <td>585</td>\n      <td>task1/test/mouse075_task1_annotator1585</td>\n      <td>0</td>\n      <td>770.006976</td>\n      <td>829.006976</td>\n      <td>782.006976</td>\n      <td>811.006976</td>\n      <td>868.006976</td>\n      <td>793.006976</td>\n      <td>...</td>\n      <td>766.374866</td>\n      <td>814.374866</td>\n      <td>81.069857</td>\n      <td>78.069857</td>\n      <td>145.069857</td>\n      <td>113.069857</td>\n      <td>65.069857</td>\n      <td>153.069857</td>\n      <td>107.069857</td>\n      <td>1</td>\n    </tr>\n    <tr>\n      <th>80541</th>\n      <td>task1/test/mouse075_task1_annotator1</td>\n      <td>586</td>\n      <td>task1/test/mouse075_task1_annotator1586</td>\n      <td>0</td>\n      <td>750.598450</td>\n      <td>818.598450</td>\n      <td>767.598450</td>\n      <td>798.598450</td>\n      <td>864.598450</td>\n      <td>786.598450</td>\n      <td>...</td>\n      <td>773.866473</td>\n      <td>832.866473</td>\n      <td>129.526582</td>\n      <td>85.526582</td>\n      <td>147.526582</td>\n      <td>112.526582</td>\n      <td>70.526582</td>\n      <td>151.526582</td>\n      <td>114.526582</td>\n      <td>1</td>\n    </tr>\n    <tr>\n      <th>80542</th>\n      <td>task1/test/mouse075_task1_annotator1</td>\n      <td>587</td>\n      <td>task1/test/mouse075_task1_annotator1587</td>\n      <td>0</td>\n      <td>748.611139</td>\n      <td>825.611139</td>\n      <td>787.611139</td>\n      <td>813.611139</td>\n      <td>831.611139</td>\n      <td>751.611139</td>\n      <td>...</td>\n      <td>745.038623</td>\n      <td>783.038623</td>\n      <td>160.652746</td>\n      <td>140.652746</td>\n      <td>184.652746</td>\n      <td>152.652746</td>\n      <td>107.652746</td>\n      <td>165.652746</td>\n      <td>117.652746</td>\n      <td>1</td>\n    </tr>\n    <tr>\n      <th>80543</th>\n      <td>task1/test/mouse075_task1_annotator1</td>\n      <td>588</td>\n      <td>task1/test/mouse075_task1_annotator1588</td>\n      <td>0</td>\n      <td>751.521545</td>\n      <td>814.521545</td>\n      <td>746.521545</td>\n      <td>785.521545</td>\n      <td>790.521545</td>\n      <td>698.521545</td>\n      <td>...</td>\n      <td>789.357764</td>\n      <td>825.357764</td>\n      <td>147.123604</td>\n      <td>107.123604</td>\n      <td>175.123604</td>\n      <td>139.123604</td>\n      <td>98.123604</td>\n      <td>179.123604</td>\n      <td>119.123604</td>\n      <td>1</td>\n    </tr>\n    <tr>\n      <th>80544</th>\n      <td>task1/test/mouse075_task1_annotator1</td>\n      <td>589</td>\n      <td>task1/test/mouse075_task1_annotator1589</td>\n      <td>0</td>\n      <td>740.698437</td>\n      <td>778.698437</td>\n      <td>722.698437</td>\n      <td>753.698437</td>\n      <td>791.698437</td>\n      <td>707.698437</td>\n      <td>...</td>\n      <td>790.026691</td>\n      <td>841.026691</td>\n      <td>149.525123</td>\n      <td>105.525123</td>\n      <td>174.525123</td>\n      <td>140.525123</td>\n      <td>102.525123</td>\n      <td>190.525123</td>\n      <td>162.525123</td>\n      <td>1</td>\n    </tr>\n    <tr>\n      <th>...</th>\n      <td>...</td>\n      <td>...</td>\n      <td>...</td>\n      <td>...</td>\n      <td>...</td>\n      <td>...</td>\n      <td>...</td>\n      <td>...</td>\n      <td>...</td>\n      <td>...</td>\n      <td>...</td>\n      <td>...</td>\n      <td>...</td>\n      <td>...</td>\n      <td>...</td>\n      <td>...</td>\n      <td>...</td>\n      <td>...</td>\n      <td>...</td>\n      <td>...</td>\n      <td>...</td>\n    </tr>\n    <tr>\n      <th>172557</th>\n      <td>task1/test/mouse079_task1_annotator1</td>\n      <td>16497</td>\n      <td>task1/test/mouse079_task1_annotator116497</td>\n      <td>0</td>\n      <td>124.899112</td>\n      <td>156.899112</td>\n      <td>190.899112</td>\n      <td>183.899112</td>\n      <td>245.899112</td>\n      <td>240.899112</td>\n      <td>...</td>\n      <td>90.212538</td>\n      <td>137.212538</td>\n      <td>290.271655</td>\n      <td>354.271655</td>\n      <td>331.271655</td>\n      <td>353.271655</td>\n      <td>350.271655</td>\n      <td>356.271655</td>\n      <td>350.271655</td>\n      <td>1</td>\n    </tr>\n    <tr>\n      <th>172558</th>\n      <td>task1/test/mouse079_task1_annotator1</td>\n      <td>16498</td>\n      <td>task1/test/mouse079_task1_annotator116498</td>\n      <td>0</td>\n      <td>121.091116</td>\n      <td>146.091116</td>\n      <td>188.091116</td>\n      <td>176.091116</td>\n      <td>239.091116</td>\n      <td>238.091116</td>\n      <td>...</td>\n      <td>91.118494</td>\n      <td>115.118494</td>\n      <td>296.645839</td>\n      <td>357.645839</td>\n      <td>330.645839</td>\n      <td>354.645839</td>\n      <td>349.645839</td>\n      <td>351.645839</td>\n      <td>281.645839</td>\n      <td>1</td>\n    </tr>\n    <tr>\n      <th>172559</th>\n      <td>task1/test/mouse079_task1_annotator1</td>\n      <td>16499</td>\n      <td>task1/test/mouse079_task1_annotator116499</td>\n      <td>0</td>\n      <td>135.111630</td>\n      <td>153.111630</td>\n      <td>204.111630</td>\n      <td>181.111630</td>\n      <td>225.111630</td>\n      <td>240.111630</td>\n      <td>...</td>\n      <td>88.455054</td>\n      <td>146.455054</td>\n      <td>306.659187</td>\n      <td>372.659187</td>\n      <td>329.659187</td>\n      <td>355.659187</td>\n      <td>367.659187</td>\n      <td>312.659187</td>\n      <td>370.659187</td>\n      <td>1</td>\n    </tr>\n    <tr>\n      <th>172560</th>\n      <td>task1/test/mouse079_task1_annotator1</td>\n      <td>16500</td>\n      <td>task1/test/mouse079_task1_annotator116500</td>\n      <td>0</td>\n      <td>149.067393</td>\n      <td>173.067393</td>\n      <td>185.067393</td>\n      <td>196.067393</td>\n      <td>252.067393</td>\n      <td>245.067393</td>\n      <td>...</td>\n      <td>128.639966</td>\n      <td>144.639966</td>\n      <td>314.699259</td>\n      <td>383.699259</td>\n      <td>329.699259</td>\n      <td>356.699259</td>\n      <td>313.699259</td>\n      <td>375.699259</td>\n      <td>371.699259</td>\n      <td>1</td>\n    </tr>\n    <tr>\n      <th>172561</th>\n      <td>task1/test/mouse079_task1_annotator1</td>\n      <td>16501</td>\n      <td>task1/test/mouse079_task1_annotator116501</td>\n      <td>0</td>\n      <td>136.621295</td>\n      <td>170.621295</td>\n      <td>213.621295</td>\n      <td>196.621295</td>\n      <td>234.621295</td>\n      <td>243.621295</td>\n      <td>...</td>\n      <td>98.604208</td>\n      <td>141.604208</td>\n      <td>330.573109</td>\n      <td>389.573109</td>\n      <td>337.573109</td>\n      <td>360.573109</td>\n      <td>375.573109</td>\n      <td>319.573109</td>\n      <td>337.573109</td>\n      <td>1</td>\n    </tr>\n  </tbody>\n</table>\n<p>12630 rows × 33 columns</p>\n</div>"
     },
     "execution_count": 19,
     "metadata": {},
     "output_type": "execute_result"
    }
   ],
   "source": [
    "df_test.query('attack==1')"
   ],
   "metadata": {
    "collapsed": false,
    "pycharm": {
     "name": "#%%\n"
    }
   }
  },
  {
   "cell_type": "code",
   "execution_count": 21,
   "outputs": [],
   "source": [
    "# download the dataset to be reused\n",
    "df_train.to_csv('calms21_tab_data_train.csv')\n",
    "df_test.to_csv('calms21_tab_data_test.csv')"
   ],
   "metadata": {
    "collapsed": false,
    "pycharm": {
     "name": "#%%\n"
    }
   }
  },
  {
   "cell_type": "markdown",
   "source": [
    "## Potential enhancements\n",
    "Experiments from causal inference showing relation to the distance of the mouse could be included.\n",
    "Distances between the different bodypart points could be included.\n",
    "?\n",
    "?\n",
    "?"
   ],
   "metadata": {
    "collapsed": false,
    "pycharm": {
     "name": "#%% md\n"
    }
   }
  }
 ],
 "metadata": {
  "kernelspec": {
   "name": "pycharm-f168ab6b",
   "language": "python",
   "display_name": "PyCharm (CN-pr-CalMS21)"
  },
  "language_info": {
   "codemirror_mode": {
    "name": "ipython",
    "version": 2
   },
   "file_extension": ".py",
   "mimetype": "text/x-python",
   "name": "python",
   "nbconvert_exporter": "python",
   "pygments_lexer": "ipython2",
   "version": "2.7.6"
  }
 },
 "nbformat": 4,
 "nbformat_minor": 0
}